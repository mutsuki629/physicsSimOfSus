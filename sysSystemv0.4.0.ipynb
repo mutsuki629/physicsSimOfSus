{
 "cells": [
  {
   "cell_type": "markdown",
   "metadata": {},
   "source": [
    "# import"
   ]
  },
  {
   "cell_type": "code",
   "execution_count": 115,
   "metadata": {
    "tags": [
     "#import"
    ]
   },
   "outputs": [],
   "source": [
    "from control import matlab\n",
    "from matplotlib import pyplot as plt\n",
    "import numpy as np\n",
    "from scipy import linalg as LA"
   ]
  },
  {
   "cell_type": "markdown",
   "metadata": {},
   "source": [
    "# class"
   ]
  },
  {
   "cell_type": "code",
   "execution_count": 116,
   "metadata": {
    "tags": [
     "#class"
    ]
   },
   "outputs": [],
   "source": [
    "class systemd:\n",
    "    def __init__(self, A, B, E, C, Ts):\n",
    "        br, bc = B.shape\n",
    "        cr, cc = C.shape\n",
    "        sys1 = matlab.ss(A, B, C, np.zeros((cr, bc)))\n",
    "        sys1d = matlab.c2d(sys1, Ts)\n",
    "        br, bc = E.shape\n",
    "        cr, cc = C.shape\n",
    "        sys2 = matlab.ss(A, E, C, np.zeros((cr, bc)))\n",
    "        sys2d = matlab.c2d(sys2, Ts)\n",
    "        self.A = sys1d.A\n",
    "        self.B = sys1d.B\n",
    "        self.E = sys2d.B\n",
    "        self.C = sys1d.C\n",
    "        \n",
    "    def update(self, x1, u1, d1):\n",
    "        x2 = self.A.dot(x1) + self.B.dot(u1) + self.E.dot(d1)\n",
    "        y2 = self.C.dot(x1)\n",
    "        return x2, y2\n",
    "    \n",
    "class mycontrol:\n",
    "    \"\"\"\n",
    "    離散システム用\n",
    "    y(k+1) = Ad*x(t) + Bd*u(k) + Ed*d(k) 想定\n",
    "    \"\"\"\n",
    "            \n",
    "    def ss(A, B, E, C, Ts):\n",
    "        return systemd(A, B, E, C, Ts)\n",
    "    \n",
    "    def lqrd(A, B, Q, R):\n",
    "        \"\"\"\n",
    "        離散系最適レギュレータ\n",
    "        \"\"\"\n",
    "        P = LA.solve_discrete_are(A, B, Q, R)\n",
    "        K = LA.inv(R+B.T.dot(P).dot(B)).dot(B.T).dot(P).dot(A)\n",
    "        E = None\n",
    "        \n",
    "        return P, K, E\n",
    "    \n",
    "def rmse(en, gn, mes=None):\n",
    "    if mes!=None:\n",
    "        print(mes)\n",
    "    for i in range(len(en)):\n",
    "        e, g = en[i], gn[i]\n",
    "        n = e.shape[0]\n",
    "        print(g, np.sqrt(np.sum(e*e)/n))"
   ]
  },
  {
   "cell_type": "markdown",
   "metadata": {},
   "source": [
    "# Param"
   ]
  },
  {
   "cell_type": "code",
   "execution_count": 117,
   "metadata": {
    "tags": [
     "#param"
    ]
   },
   "outputs": [],
   "source": [
    "# 入力値\n",
    "m = 534 # 車体重量 kg\n",
    "Is = 785 # 車体の慣性モーメント kg*m^2\n",
    "kf = 13569 # 前輪支持ばね定数 N/m\n",
    "kr = 17681 # 後輪支持ばね定数 N/m\n",
    "cf = 1200 # 前輪支持減衰定数 Ns/m\n",
    "cr = 1299 # 後輪支持減衰定数 Ns/m\n",
    "a = 1.2 # 車体重心と前輪軸間距離 mb\n",
    "b = 1.3 # 車体重心と後輪軸間距離 m\n",
    "\n",
    "Ts = 0.001 # サンプリング周期 sec\n",
    "hd = 0.08 # 外乱高さ m\n",
    "ld = 0.5 # 外乱長さ m\n",
    "dl = 5 # 外乱までの距離 m\n",
    "\n",
    "h = np.array([1, 1])*10**-5 # 重み行列H用 1x2\n",
    "\n",
    "Cp = np.array(\n",
    "    [\n",
    "        [1, 0, 0, 0],\n",
    "        [0, 0, 1, 0]\n",
    "    ]\n",
    ")\n",
    "\n",
    "# 計算値\n",
    "l = a+b  # ホイールベース間距離 m\n",
    "H = np.diag(h)  # 重み行列H 2x2\n",
    "\n",
    "Ap = np.array(\n",
    "    [\n",
    "        [0, 1, 0, 0],\n",
    "        np.array([-(kf+kr), -(cf+cr), kf*a-kr*b, cf*a-cr*b])/m,\n",
    "        [0, 0, 0, 1],\n",
    "        np.array([kf*a-kr*b, cf*a-cr*b, -(kf*a*a+kr*b*b), -(cf*a*a+cr*b*b)])/Is\n",
    "    ]\n",
    ")\n",
    "Bp = np.array(\n",
    "    [\n",
    "        [0, 0],\n",
    "        [1/m, 1/m],\n",
    "        [0, 0],\n",
    "        [-a/Is, b/Is]\n",
    "    ]\n",
    ")\n",
    "Ep = np.array(\n",
    "    [\n",
    "        [0, 0, 0, 0],\n",
    "        np.array([kf, cf, kr, cr])/m,\n",
    "        [0, 0, 0, 0],\n",
    "        np.array([-kf*a, -cf*a, kr*b, cr*b])/Is\n",
    "    ]\n",
    ")"
   ]
  },
  {
   "cell_type": "markdown",
   "metadata": {},
   "source": [
    "# 外乱"
   ]
  },
  {
   "cell_type": "code",
   "execution_count": 118,
   "metadata": {
    "tags": [
     "#dist"
    ]
   },
   "outputs": [],
   "source": [
    "def w_dist(x):\n",
    "    if x<= l:\n",
    "        return 0\n",
    "    elif x<= l+ld:\n",
    "        return hd*(1-np.cos(2*np.pi*(x-l)/ld))/2\n",
    "    else:\n",
    "        return 0\n",
    "    \n",
    "def w_distd(x):\n",
    "    xd = x%(l+ld+5)\n",
    "    if xd<= l:\n",
    "        return 0\n",
    "    elif xd<= l+ld:\n",
    "        return hd*(1-np.cos(2*np.pi*(xd-l)/ld))/2\n",
    "    else:\n",
    "        return 0\n",
    "    \n",
    "def dist(x, l):\n",
    "    return w_dist(x+l), w_dist(x)"
   ]
  },
  {
   "cell_type": "markdown",
   "metadata": {},
   "source": [
    "# sim2 加速度一定"
   ]
  },
  {
   "cell_type": "code",
   "execution_count": 125,
   "metadata": {
    "tags": [
     "#sim20",
     "=>sim21",
     "=>sim22",
     "=>sim23",
     "=>sim24"
    ]
   },
   "outputs": [],
   "source": [
    "# run all sim2"
   ]
  },
  {
   "cell_type": "code",
   "execution_count": 120,
   "metadata": {
    "tags": [
     "#add_param"
    ]
   },
   "outputs": [],
   "source": [
    "sysd = mycontrol.ss(Ap, Bp, Ep, Cp, Ts)\n",
    "\n",
    "start_time = 0\n",
    "end_time = 1\n",
    "t = np.arange(start_time, end_time, Ts)\n",
    "\n",
    "# 0-100km/h : 12秒程度\n",
    "# 最大の加速度=>加速度 : 8.5km/h程度\n",
    "# 加速度 6km/h と仮定\n",
    "start_v = 30\n",
    "ac_v = 6\n",
    "vs = start_v*1000/3600\n",
    "ac = ac_v*1000/3600\n",
    "\n",
    "q = np.array([1, 100, 1, 1, 1, 1])\n",
    "Q = np.diag(q)\n",
    "\n",
    "phi = np.vstack(\n",
    "    [\n",
    "        np.hstack([np.eye(2), -sysd.C.dot(sysd.A)]),\n",
    "        np.hstack([np.zeros([4, 2]), sysd.A])\n",
    "    ]\n",
    ")\n",
    "G = np.vstack(\n",
    "    [\n",
    "        -sysd.C.dot(sysd.B),\n",
    "        sysd.B\n",
    "    ]\n",
    ")\n",
    "Gd = np.vstack(\n",
    "    [\n",
    "        -sysd.C.dot(sysd.E),\n",
    "        sysd.E\n",
    "    ]\n",
    ")\n",
    "syser = mycontrol.ss(phi, G, Gd, np.eye(6), Ts)\n",
    "\n",
    "P, K, E = mycontrol.lqrd(phi, G, Q, H)\n",
    "K = -K\n",
    "Fe, Fx = np.hsplit(K, [2])\n",
    "\n",
    "step = 43 # 予見ステップ数\n",
    "yoken = np.zeros((2, 4, 1))\n",
    "Fd = np.zeros((step, 2, 4))\n",
    "for i in range(step):\n",
    "    Fd[i] = -LA.inv(H+G.T.dot(P).dot(G)).dot(G.T).dot(np.linalg.matrix_power((phi+G.dot(K)).T, i+1)).dot(P).dot(Gd)"
   ]
  },
  {
   "cell_type": "markdown",
   "metadata": {},
   "source": [
    "## Non Preview"
   ]
  },
  {
   "cell_type": "code",
   "execution_count": 121,
   "metadata": {
    "tags": [
     "#sim21",
     "=>add_param"
    ]
   },
   "outputs": [
    {
     "name": "stdout",
     "output_type": "stream",
     "text": [
      "v=35.99400000000094\n"
     ]
    }
   ],
   "source": [
    "# エラーシステム\n",
    "x = np.zeros((t.size, 4, 1))\n",
    "y = np.zeros((t.size, 2, 1))\n",
    "u = np.zeros((t.size, 2, 1))\n",
    "d = np.zeros((t.size, 4, 1))\n",
    "dis = np.zeros((t.size))\n",
    "v = vs\n",
    "e = np.zeros((t.size, 2, 1))\n",
    "\n",
    "for i in range(t.size-1):\n",
    "    x[i+1], y[i+1] = sysd.update(x[i], u[i], d[i])\n",
    "    dis[i+1] = dis[i] + v*Ts\n",
    "    d[i+1][0], d[i+1][2] = dist(dis[i+1], l)\n",
    "    d[i+1][1][0] = (d[i+1][0]-d[i][0])/Ts\n",
    "    d[i+1][3][0] = (d[i+1][2]-d[i][2])/Ts  \n",
    "    \n",
    "    e[i+1] = -y[i+1]\n",
    "    dx = x[i+1] - x[i]\n",
    "    du = Fe.dot(e[i+1]) + Fx.dot(dx)\n",
    "    u[i+1] = u[i] + du\n",
    "    \n",
    "    v += ac*Ts\n",
    "    \n",
    "x21, y21, u21, d21, dis21 = x, y, u, d, dis\n",
    "\n",
    "print('v={0}'.format(v*3600/1000))"
   ]
  },
  {
   "cell_type": "markdown",
   "metadata": {},
   "source": [
    "## Preview System (速度一定)"
   ]
  },
  {
   "cell_type": "code",
   "execution_count": 122,
   "metadata": {
    "tags": [
     "#sim22",
     "=>add_param"
    ]
   },
   "outputs": [],
   "source": [
    "# 速度対応 予見システム\n",
    "x = np.zeros((t.size, 4, 1))\n",
    "y = np.zeros((t.size, 2, 1))\n",
    "u = np.zeros((t.size, 2, 1))\n",
    "d = np.zeros((t.size, 4, 1))\n",
    "dis = np.zeros((t.size))\n",
    "v = vs\n",
    "e = np.zeros((t.size, 2, 1))\n",
    "s = int(l/(v*Ts)+0.5)\n",
    "\n",
    "\n",
    "for i in range(t.size-1):\n",
    "    x[i+1], y[i+1] = sysd.update(x[i], u[i], d[i])\n",
    "    dis[i+1] = dis[i] + v*Ts\n",
    "    d[i+1][0], d[i+1][2] = dist(dis[i+1], l)\n",
    "    d[i+1][1][0] = (d[i+1][0]-d[i][0])/Ts\n",
    "    d[i+1][3][0] = (d[i+1][2]-d[i][2])/Ts  \n",
    "    \n",
    "#     # 予見情報\n",
    "#     if i<t.size-Mmax-1:\n",
    "#         yoken[i+1+Mmax][2] = d[i+1][0]\n",
    "#         yoken[i+1+Mmax][3] = d[i+1][1]\n",
    "    \n",
    "    e[i+1] = -y[i+1]\n",
    "    dx = x[i+1] - x[i]\n",
    "    du = Fe.dot(e[i+1]) + Fx.dot(dx)\n",
    "    \n",
    "    Mmax = int(l/(v*Ts))\n",
    "    for j in range(step):\n",
    "        k = i+j-s\n",
    "        if k>0 and k<t.size-1:\n",
    "            yoken[1][2:] = d[k+1][:2]\n",
    "            yoken[0][2:] = d[k][:2]\n",
    "            dw = yoken[1]-yoken[0]\n",
    "            du += Fd[j].dot(dw)\n",
    "    \n",
    "#     for j in range(step):\n",
    "#         k = i + j+1\n",
    "#         dw = yoken[k+1]-yoken[k]\n",
    "#         du += Fd[j].dot(dw)\n",
    "    \n",
    "    u[i+1] = u[i] + du\n",
    "    v += ac*Ts\n",
    "#     Mmax = int(l/(v*Ts))\n",
    "    \n",
    "x22, y22, u22, d22, dis22 = x, y, u, d, dis"
   ]
  },
  {
   "cell_type": "markdown",
   "metadata": {},
   "source": [
    "## Preview System (加速度一定)"
   ]
  },
  {
   "cell_type": "code",
   "execution_count": 123,
   "metadata": {
    "tags": [
     "#sim23",
     "=>add_param"
    ]
   },
   "outputs": [],
   "source": [
    "# 加速対応 予見制御\n",
    "x = np.zeros((t.size, 4, 1))\n",
    "y = np.zeros((t.size, 2, 1))\n",
    "u = np.zeros((t.size, 2, 1))\n",
    "d = np.zeros((t.size, 4, 1))\n",
    "dis = np.zeros((t.size))\n",
    "v = vs\n",
    "e = np.zeros((t.size, 2, 1))\n",
    "s = int((-v+np.sqrt(v*v+2*ac*l))/(ac*Ts))\n",
    "\n",
    "\n",
    "for i in range(t.size-1):\n",
    "    x[i+1], y[i+1] = sysd.update(x[i], u[i], d[i])\n",
    "    dis[i+1] = dis[i] + v*Ts\n",
    "    d[i+1][0], d[i+1][2] = dist(dis[i+1], l)\n",
    "    d[i+1][1][0] = (d[i+1][0]-d[i][0])/Ts\n",
    "    d[i+1][3][0] = (d[i+1][2]-d[i][2])/Ts  \n",
    "    \n",
    "    e[i+1] = -y[i+1]\n",
    "    dx = x[i+1] - x[i]\n",
    "    du = Fe.dot(e[i+1]) + Fx.dot(dx)\n",
    "    \n",
    "    for j in range(step):\n",
    "        k = i+j-s\n",
    "        if k>0 and k<t.size-1:\n",
    "            yoken[1][2:] = d[k+1][:2]\n",
    "            yoken[0][2:] = d[k][:2]\n",
    "            dw = yoken[1]-yoken[0]\n",
    "            du += Fd[j].dot(dw)\n",
    "    \n",
    "    u[i+1] = u[i] + du    \n",
    "    v += ac*Ts\n",
    "\n",
    "    \n",
    "x23, y23, u23, d23, dis23 = x, y, u, d, dis"
   ]
  },
  {
   "cell_type": "markdown",
   "metadata": {},
   "source": [
    "## Preview System (予見情報が正しい)"
   ]
  },
  {
   "cell_type": "code",
   "execution_count": 124,
   "metadata": {
    "tags": [
     "#sim24",
     "=>add_param"
    ]
   },
   "outputs": [],
   "source": [
    "# 予見情報が正しい場合\n",
    "x = np.zeros((t.size, 4, 1))\n",
    "y = np.zeros((t.size, 2, 1))\n",
    "u = np.zeros((t.size, 2, 1))\n",
    "d = np.zeros((t.size, 4, 1))\n",
    "dis = np.zeros((t.size))\n",
    "v = vs\n",
    "e = np.zeros((t.size, 2, 1))\n",
    "\n",
    "for i in range(t.size-1):\n",
    "    dis[i+1] = dis[i] + v*Ts\n",
    "    d[i+1][0], d[i+1][2] = dist(dis[i+1], l)\n",
    "    d[i+1][1][0] = (d[i+1][0]-d[i][0])/Ts\n",
    "    d[i+1][3][0] = (d[i+1][2]-d[i][2])/Ts\n",
    "    \n",
    "    v += ac*Ts\n",
    "    \n",
    "v = vs\n",
    "for i in range(t.size-1):\n",
    "    x[i+1], y[i+1] = sysd.update(x[i], u[i], d[i])\n",
    "    dis[i+1] = dis[i] + v*Ts\n",
    "    d[i+1][0], d[i+1][2] = dist(dis[i+1], l)\n",
    "    d[i+1][1][0] = (d[i+1][0]-d[i][0])/Ts\n",
    "    d[i+1][3][0] = (d[i+1][2]-d[i][2])/Ts  \n",
    "    \n",
    "    e[i+1] = -y[i+1]\n",
    "    dx = x[i+1] - x[i]\n",
    "    du = Fe.dot(e[i+1]) + Fx.dot(dx)\n",
    "    \n",
    "    for j in range(step):\n",
    "        k = i+j\n",
    "        if k>0 and k<t.size-1:\n",
    "            yoken[1][2:] = d[k+1][2:]\n",
    "            yoken[0][2:] = d[k][2:]\n",
    "            dw = yoken[1]-yoken[0]\n",
    "            du += Fd[j].dot(dw)\n",
    "    \n",
    "    u[i+1] = u[i] + du    \n",
    "    v += ac*Ts\n",
    "\n",
    "    \n",
    "x24, y24, u24, d24, dis24 = x, y, u, d, dis"
   ]
  },
  {
   "cell_type": "markdown",
   "metadata": {},
   "source": [
    "# plot"
   ]
  },
  {
   "cell_type": "code",
   "execution_count": 130,
   "metadata": {
    "tags": [
     "#plot20",
     "=>plot21",
     "=>plot22",
     "=>plot23",
     "=>plot24"
    ]
   },
   "outputs": [],
   "source": [
    "# run all plot"
   ]
  },
  {
   "cell_type": "markdown",
   "metadata": {},
   "source": [
    "## 状態変数x"
   ]
  },
  {
   "cell_type": "code",
   "execution_count": 126,
   "metadata": {
    "scrolled": false,
    "tags": [
     "#plot21"
    ]
   },
   "outputs": [
    {
     "data": {
      "text/plain": [
       "<matplotlib.collections.LineCollection at 0x1231d1668>"
      ]
     },
     "execution_count": 126,
     "metadata": {},
     "output_type": "execute_result"
    },
    {
     "data": {
      "image/png": "[encoded data removed]",
      "text/plain": [
       "<Figure size 864x288 with 2 Axes>"
      ]
     },
     "metadata": {
      "needs_background": "light"
     },
     "output_type": "display_data"
    },
    {
     "data": {
      "image/png": "[encoded data removed]",
      "text/plain": [
       "<Figure size 864x288 with 2 Axes>"
      ]
     },
     "metadata": {
      "needs_background": "light"
     },
     "output_type": "display_data"
    }
   ],
   "source": [
    "# 状態変数x\n",
    "yn = (x21, x22, x23, x24)\n",
    "gn = ('non pre', 'pre', 'pre mod1', 'pre proper')\n",
    "\n",
    "plt.figure(figsize=(12, 4))\n",
    "plt.subplot(1, 2, 1)\n",
    "for i in range(len(yn)):\n",
    "    plt.plot(t, yn[i][:, 0], label=gn[i])\n",
    "plt.legend()\n",
    "plt.hlines([0], 0, end_time, linestyles='dashed')\n",
    "\n",
    "plt.subplot(1, 2, 2)\n",
    "for i in range(len(yn)):\n",
    "    plt.plot(t, yn[i][:, 1], label=gn[i])\n",
    "plt.legend()\n",
    "plt.hlines([0], 0, end_time, linestyles='dashed')\n",
    "\n",
    "plt.figure(figsize=(12, 4))\n",
    "plt.subplot(1, 2, 1)\n",
    "for i in range(len(yn)):\n",
    "    plt.plot(t, yn[i][:, 2], label=gn[i])\n",
    "plt.legend()\n",
    "plt.hlines([0], 0, end_time, linestyles='dashed')\n",
    "\n",
    "plt.subplot(1, 2, 2)\n",
    "for i in range(len(yn)):\n",
    "    plt.plot(t, yn[i][:, 3], label=gn[i])\n",
    "plt.legend()\n",
    "plt.hlines([0], 0, end_time, linestyles='dashed')"
   ]
  },
  {
   "cell_type": "markdown",
   "metadata": {},
   "source": [
    "## 入力u"
   ]
  },
  {
   "cell_type": "code",
   "execution_count": 127,
   "metadata": {
    "tags": [
     "#plot22"
    ]
   },
   "outputs": [
    {
     "data": {
      "text/plain": [
       "<matplotlib.collections.LineCollection at 0x12346b198>"
      ]
     },
     "execution_count": 127,
     "metadata": {},
     "output_type": "execute_result"
    },
    {
     "data": {
      "image/png": "[encoded data removed]",
      "text/plain": [
       "<Figure size 864x288 with 2 Axes>"
      ]
     },
     "metadata": {
      "needs_background": "light"
     },
     "output_type": "display_data"
    }
   ],
   "source": [
    "# 入力u\n",
    "yn = (u21, u22, u23)\n",
    "gn = ('non pre', 'pre', 'pre mod1', 'pre proper')\n",
    "\n",
    "plt.figure(figsize=(12, 4))\n",
    "plt.subplot(1, 2, 1)\n",
    "for i in range(len(yn)):\n",
    "    plt.plot(t, yn[i][:, 0], label=gn[i])\n",
    "plt.legend()\n",
    "plt.hlines([0], 0, end_time, linestyles='dashed')\n",
    "\n",
    "plt.subplot(1, 2, 2)\n",
    "for i in range(len(yn)):\n",
    "    plt.plot(t, yn[i][:, 1], label=gn[i])\n",
    "plt.legend()\n",
    "plt.hlines([0], 0, end_time, linestyles='dashed')"
   ]
  },
  {
   "cell_type": "markdown",
   "metadata": {},
   "source": [
    "## 外乱d"
   ]
  },
  {
   "cell_type": "code",
   "execution_count": 128,
   "metadata": {
    "tags": [
     "#plot23"
    ]
   },
   "outputs": [
    {
     "data": {
      "text/plain": [
       "<matplotlib.collections.LineCollection at 0x1236786a0>"
      ]
     },
     "execution_count": 128,
     "metadata": {},
     "output_type": "execute_result"
    },
    {
     "data": {
      "image/png": "[encoded data removed]",
      "text/plain": [
       "<Figure size 864x288 with 2 Axes>"
      ]
     },
     "metadata": {
      "needs_background": "light"
     },
     "output_type": "display_data"
    },
    {
     "data": {
      "image/png": "[encoded data removed]",
      "text/plain": [
       "<Figure size 864x288 with 2 Axes>"
      ]
     },
     "metadata": {
      "needs_background": "light"
     },
     "output_type": "display_data"
    }
   ],
   "source": [
    "# 外乱d\n",
    "yn = (d21,)\n",
    "gn = ('None')\n",
    "\n",
    "plt.figure(figsize=(12, 4))\n",
    "plt.subplot(1, 2, 1)\n",
    "for i in range(len(yn)):\n",
    "    plt.plot(t, yn[i][:, 0], label=gn[i])\n",
    "plt.legend()\n",
    "plt.hlines([0], 0, end_time, linestyles='dashed')\n",
    "\n",
    "plt.subplot(1, 2, 2)\n",
    "for i in range(len(yn)):\n",
    "    plt.plot(t, yn[i][:, 1], label=gn[i])\n",
    "plt.legend()\n",
    "plt.hlines([0], 0, end_time, linestyles='dashed')\n",
    "\n",
    "plt.figure(figsize=(12, 4))\n",
    "plt.subplot(1, 2, 1)\n",
    "for i in range(len(yn)):\n",
    "    plt.plot(t, yn[i][:, 2], label=gn[i])\n",
    "plt.legend()\n",
    "plt.hlines([0], 0, end_time, linestyles='dashed')\n",
    "\n",
    "plt.subplot(1, 2, 2)\n",
    "for i in range(len(yn)):\n",
    "    plt.plot(t, yn[i][:, 3], label=gn[i])\n",
    "plt.legend()\n",
    "plt.hlines([0], 0, end_time, linestyles='dashed')"
   ]
  },
  {
   "cell_type": "markdown",
   "metadata": {},
   "source": [
    "## 距離dis"
   ]
  },
  {
   "cell_type": "code",
   "execution_count": 129,
   "metadata": {
    "tags": [
     "#plot24"
    ]
   },
   "outputs": [
    {
     "data": {
      "text/plain": [
       "<matplotlib.legend.Legend at 0x123806240>"
      ]
     },
     "execution_count": 129,
     "metadata": {},
     "output_type": "execute_result"
    },
    {
     "data": {
      "image/png": "[encoded data removed]",
      "text/plain": [
       "<Figure size 864x288 with 1 Axes>"
      ]
     },
     "metadata": {
      "needs_background": "light"
     },
     "output_type": "display_data"
    }
   ],
   "source": [
    "# 距離dis\n",
    "yn = (dis21,)\n",
    "gn = ('None',)\n",
    "\n",
    "plt.figure(figsize=(12, 4))\n",
    "plt.subplot(1, 2, 1)\n",
    "for i in range(len(yn)):\n",
    "    plt.plot(t, yn[i], label=gn[i])\n",
    "plt.legend()"
   ]
  },
  {
   "cell_type": "markdown",
   "metadata": {},
   "source": [
    "# 平均誤差率"
   ]
  },
  {
   "cell_type": "code",
   "execution_count": 138,
   "metadata": {
    "tags": [
     "=>rmse21",
     "=>rmse22",
     "=>rmse23",
     "=>rmse24",
     "=>rmse25",
     "=>rmse26"
    ]
   },
   "outputs": [],
   "source": [
    "#run all rmse"
   ]
  },
  {
   "cell_type": "code",
   "execution_count": 132,
   "metadata": {
    "tags": [
     "#rmse21"
    ]
   },
   "outputs": [
    {
     "name": "stdout",
     "output_type": "stream",
     "text": [
      "入力-前輪 \n",
      "Non Preview 339.6305584233765\n",
      "Preview 319.48026095589495\n",
      "Preview mod1 302.73935787370743\n",
      "Preview proper 303.3890750478707\n"
     ]
    }
   ],
   "source": [
    "mes = '入力-前輪 '\n",
    "en = (u21[:, 0], u22[:, 0], u23[:, 0], u24[:, 0])\n",
    "gn = ('Non Preview', 'Preview', 'Preview mod1', 'Preview proper')\n",
    "rmse(en, gn, mes)"
   ]
  },
  {
   "cell_type": "code",
   "execution_count": 133,
   "metadata": {
    "scrolled": true,
    "tags": [
     "#rmse22"
    ]
   },
   "outputs": [
    {
     "name": "stdout",
     "output_type": "stream",
     "text": [
      "入力-後輪\n",
      "Non Preview 357.81713831221003\n",
      "Preview 319.8178225544749\n",
      "Preview mod1 225.0290401127464\n",
      "Preview proper 232.9072648987095\n"
     ]
    }
   ],
   "source": [
    "mes = '入力-後輪'\n",
    "en = (u21[:, 1], u22[:, 1], u23[:, 1], u24[:, 1])\n",
    "gn = ('Non Preview', 'Preview', 'Preview mod1', 'Preview proper')\n",
    "rmse(en, gn, mes)"
   ]
  },
  {
   "cell_type": "code",
   "execution_count": 134,
   "metadata": {
    "tags": [
     "#rmse23"
    ]
   },
   "outputs": [
    {
     "name": "stdout",
     "output_type": "stream",
     "text": [
      "車体上下変位\n",
      "Non Preview 0.16620934544982446\n",
      "Preview 0.14285103232701832\n",
      "Preview mod1 0.14793422578578935\n",
      "Preview proper 0.14843004583520653\n"
     ]
    }
   ],
   "source": [
    "mes = '車体上下変位'\n",
    "en = (x21[:, 0]*100, x22[:, 0]*100, x23[:, 0]*100, x24[:, 0]*100)\n",
    "gn = ('Non Preview', 'Preview', 'Preview mod1', 'Preview proper')\n",
    "rmse(en, gn, mes)"
   ]
  },
  {
   "cell_type": "code",
   "execution_count": 135,
   "metadata": {
    "tags": [
     "#rmse24"
    ]
   },
   "outputs": [
    {
     "name": "stdout",
     "output_type": "stream",
     "text": [
      "車体上下速度\n",
      "Non Preview 4.160779115000236\n",
      "Preview 3.6860911524915965\n",
      "Preview mod1 3.9021920881284364\n",
      "Preview proper 3.880398385270923\n"
     ]
    }
   ],
   "source": [
    "mes = '車体上下速度'\n",
    "en = (x21[:, 1]*100, x22[:, 1]*100, x23[:, 1]*100, x24[:, 1]*100)\n",
    "gn = ('Non Preview', 'Preview', 'Preview mod1', 'Preview proper')\n",
    "rmse(en, gn, mes)"
   ]
  },
  {
   "cell_type": "code",
   "execution_count": 136,
   "metadata": {
    "tags": [
     "#rmse25"
    ]
   },
   "outputs": [
    {
     "name": "stdout",
     "output_type": "stream",
     "text": [
      "角度変位\n",
      "Non Preview 0.08324161787345882\n",
      "Preview 0.0614662828529888\n",
      "Preview mod1 0.06893422382436873\n",
      "Preview proper 0.06606237586004092\n"
     ]
    }
   ],
   "source": [
    "mes = '角度変位'\n",
    "en = (x21[:, 2]*100, x22[:, 2]*100, x23[:, 2]*100, x24[:, 2]*100)\n",
    "gn = ('Non Preview', 'Preview', 'Preview mod1', 'Preview proper')\n",
    "rmse(en, gn, mes)"
   ]
  },
  {
   "cell_type": "code",
   "execution_count": 137,
   "metadata": {
    "tags": [
     "#rmse26"
    ]
   },
   "outputs": [
    {
     "name": "stdout",
     "output_type": "stream",
     "text": [
      "角速度\n",
      "Non Preview 3.1425017037027088\n",
      "Preview 2.4401033674676404\n",
      "Preview mod1 2.8696996390786125\n",
      "Preview proper 2.8717480399477067\n"
     ]
    }
   ],
   "source": [
    "mes = '角速度'\n",
    "en = (x21[:, 3]*100, x22[:, 3]*100, x23[:, 3]*100, x24[:, 3]*100)\n",
    "gn = ('Non Preview', 'Preview', 'Preview mod1', 'Preview proper')\n",
    "rmse(en, gn, mes)"
   ]
  },
  {
   "cell_type": "markdown",
   "metadata": {},
   "source": [
    "# 実行コマンド"
   ]
  },
  {
   "cell_type": "code",
   "execution_count": 119,
   "metadata": {
    "tags": [
     "=>import",
     "=>class",
     "=>param",
     "=>dist"
    ]
   },
   "outputs": [],
   "source": [
    "# run preparation"
   ]
  },
  {
   "cell_type": "code",
   "execution_count": 131,
   "metadata": {
    "tags": [
     "=>sim20",
     "=>plot20"
    ]
   },
   "outputs": [],
   "source": [
    "# run all sim2 plot2"
   ]
  },
  {
   "cell_type": "code",
   "execution_count": null,
   "metadata": {},
   "outputs": [],
   "source": []
  }
 ],
 "metadata": {
  "celltoolbar": "Tags",
  "kernelspec": {
   "display_name": "Python 3",
   "language": "python",
   "name": "python3"
  },
  "language_info": {
   "codemirror_mode": {
    "name": "ipython",
    "version": 3
   },
   "file_extension": ".py",
   "mimetype": "text/x-python",
   "name": "python",
   "nbconvert_exporter": "python",
   "pygments_lexer": "ipython3",
   "version": "3.6.8"
  },
  "toc": {
   "base_numbering": 1,
   "nav_menu": {},
   "number_sections": true,
   "sideBar": true,
   "skip_h1_title": false,
   "title_cell": "Table of Contents",
   "title_sidebar": "Contents",
   "toc_cell": false,
   "toc_position": {
    "height": "calc(100% - 180px)",
    "left": "10px",
    "top": "150px",
    "width": "184px"
   },
   "toc_section_display": true,
   "toc_window_display": true
  }
 },
 "nbformat": 4,
 "nbformat_minor": 2
}
